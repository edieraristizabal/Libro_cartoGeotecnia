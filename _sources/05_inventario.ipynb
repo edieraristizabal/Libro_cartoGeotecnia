{
 "cells": [
  {
   "cell_type": "markdown",
   "metadata": {
    "id": "tMyc-4zGh13N"
   },
   "source": [
    "# Inventario de movimientos en masa"
   ]
  },
  {
   "cell_type": "markdown",
   "metadata": {
    "id": "UZeiihZ_MmBq"
   },
   "source": [
    "La elaboración de un mapa de susceptibilidad y/o amenaza por movimientos en masa se refiere a la construcción de un modelo predictivo de la forma:\n",
    "\n",
    "$y = f(X)$\n",
    "\n",
    "Donde $y$ es la variable dependiente, es decir la ocurrencia o no de movimientos en masa; y $X$ correponde a las variables independientes o condicionantes. \n",
    "\n",
    "$MenM[0,1] = f(pendiente, geologia, coberturas, etc, etc,)$\n",
    "\n",
    "De esta forma, el inventario de movimientos en masa es una herramienta fundamental para la evaluación de la probabilidad espacial, temporal y magnitud. Además, constituyen la principal fuente de información con fines de validación de los resultados de los mapas de zonificación de la amenaza. El inventario de movimientos en masa corresponde a un registro detallado de los eventos que han ocurrido en el pasado proporcionando información útil sobre su distribución y características ({cite:t}`Eeckhaut2012`)."
   ]
  },
  {
   "cell_type": "markdown",
   "metadata": {
    "id": "lzZa8RhnMmBr"
   },
   "source": [
    "## Atributos de los movimientos en masa\n",
    "Los atributos asociados a los movimientos en masa contienen información sobre:\n",
    "* el tipo de deslizamiento\n",
    "* la actividad\n",
    "* el tamaño o volumen\n",
    "* la fecha de ocurrencia o edad relativa\n",
    "* las causas"
   ]
  },
  {
   "cell_type": "markdown",
   "metadata": {
    "id": "envpTa4AMmBr"
   },
   "source": [
    "## Técnicas\n",
    "Existen múltiples técnicas para el levantamiento de inventarios:\n",
    "\n",
    "* análisis de información histórica\n",
    "* fotointerpretación de fotografías aéreas\n",
    "* análisis visual de modelos digitales del terreno\n",
    "* procesamiento de imágenes de satélite\n",
    "* Levantamiento de \n",
    "\n",
    "Debido al acelerado desarrollo de las técnicas de sensores remotos, y la disponibilidad, cada vez mayor de esta información, se vienen desarrollando técnicas basadas en imégenes de satelitales o modelos del elevación del terreno que faciliten la identificación y mapeo de los movimientos en masa. Entre ellas se resaltan el uso de índices espectrales, tales como el Indice de Diferencia Normalizada de Vegetacion (NDVI). En donde se pueden identificar áreas cubiertas por vegetación y que por causa de movimientos en masa pierden dicha cobertura a suelos desnudos. Para esto se debe utilizar una imagen previa a la ocurrencia del evento, y otra imagen posterior y calcular el NDVI para cada una de ellas y posteriormente la diferenencia entre dichos índices calculados. Las zonas de movimientos en masa representan las celdas con valores diferentes a cero, señalando el cambio de cobertura.\n",
    "\n",
    ":::{figure-md} inventario\n",
    "<img src=\"https://www.researchgate.net/profile/Dario-Gioia-2/publication/234111493/figure/fig2/AS:393517898715136@1470833386263/Landslide-inventory-map-of-the-study-area-Landslides-types-are-classified-according-to.png\" alt=\"inventario\" width=\"800px\">\n",
    "\n",
    "Inventario de movimientos en masa por tipo de evento. Tomado de Santagelo et al., (2013)\n",
    ":::\n",
    "\n",
    ":::{figure-md} inventario\n",
    "<img src=\"https://d3i71xaburhd42.cloudfront.net/b29fda1ca9630cdb7118a107d420a8f7b91406ad/5-Figure3-1.png\" alt=\"inventario\" width=\"800px\">\n",
    "\n",
    "Inventario de movimientos en masa por actividad. Tomado de Ventisette et al (2014).\n",
    ":::"
   ]
  },
  {
   "cell_type": "markdown",
   "metadata": {
    "id": "v-nuWi8qMmBs"
   },
   "source": [
    "## Tipos de inventarios\n",
    "Existen los siguientes tipos de inventarios de movimientos en masa:\n",
    "\n",
    "* **Inventario de movimientos en masa multitemporales**: son elaborados a partir de información de diferentes periodos de tiempo, por lo tanto permiten establecer la fecha o rango de ocurrencia de los eventos. Cuando se utilizan fogografías aéreas o imágenes satelitales, se tiene la fecha de un periodo donde todavía no se había presentado el movimiento en masa, y una fecha posterior donde el evento ya se encuentra, por lo tanto no se se tiene la fecha exacta de ocurrencia, pero si el rango (entre la fecha anterior donde no se había presentado el evento y la fecha donde se registra). Son los mas recomendados para la construcción de modelos de susceptibilidad, ya que agregan eventos ocurridos por diferentes condiciones detonantes. Sin embargo para mapas de amenaza deben ser utilizados con cuidado, por lo que precisamente se requiere diferenciar las condiciones detonantes.\n",
    "\n",
    ":::{figure-md} inventario multi\n",
    "<img src=\"https://www.irpi.cnr.it/wp-content/uploads/2015/02/Prodotto_LIM-595x290.png\" alt=\"inventario multi\" width=\"600px\">\n",
    "\n",
    "Inventario de movimientos en masa multitemporal. Tomado del IRPI & CNR.\n",
    ":::\n",
    "\n",
    "* **Inventario de un sólo periodo**: corresponden a inventarios a partir de un sólo periodo de tiempo por lo tanto no son válidos para calibrar un modelo de susceptibilidad, ya que representan solo las codnciones de ese periodo de tiempo, el cual puede ser diferentes a las condciones dominantes. En este mismo sentido, pueden ser muy útiles para mapas de amenaza cuando precisamente se requiere calibrar o caracterizar las condiciones detonantes que dominaron durante ese periodo de tiempo.\n",
    "\n",
    "* **Inventario de deslizamientos de un evento**: son inventarios de movimientsos en masa que ocurren como resultado de un evento detonante particular (tormenta, sismo, etc). Son recomendados para calibrar modelos de amenaza, ya que permiten identificar las zonas que fallaron ante condiciones muy específicas de lluvia o magnitud del sismo.\n",
    "\n",
    ":::{figure-md} inventario evento\n",
    "<img src=\"https://i.pinimg.com/564x/03/94/43/0394436918c95bfa81a13cdfab4ec32a.jpg\" alt=\"inventario evento\" width=\"600px\">\n",
    "\n",
    "Inventario de movimientos en masa de un evento de lluvia específico.\n",
    ":::\n",
    "\n",
    "Es importante señalar que los inventarios de movimientos en masa tienden a ser sesgados por que la huella de los pequeños movimientos es eliminada por procesos erosivos y la vegetación. Tienden a conservarse los eventos mas recientes o mas grandes.\n",
    "\n",
    ":::{figure-md} influencia vegetacion\n",
    "<img src=\"https://i.pinimg.com/564x/6f/2e/cc/6f2ecc0b23d8a9703ef66ee77386d5be.jpg\" alt=\"influencia vegetacion\" width=\"600px\">\n",
    "\n",
    "Inventario de movimientos en masa en ambientes con abundante vegetación.\n",
    ":::"
   ]
  },
  {
   "cell_type": "markdown",
   "metadata": {
    "id": "aH-BelkxMmBu"
   },
   "source": [
    "## Cartografía\n",
    "Diferentes métodos han sido utilizados para cartografiar los movimientos en masa para un inventario:\n",
    "\n",
    "* un pixel que representa el centro del movimiento en masa\n",
    "* todos los pixeles dentro del movimiento en masa (cuerpo y corona)\n",
    "* la corona del evento\n",
    "* la celula semilla (*see-cell approach*) seleccionando pixeles dentro de un *buffer* a lo largo de la corona, y en algunos de los flancos de la zona de acumulación\n",
    "\n",
    ":::{figure-md} inventario\n",
    "<img src=\"https://i.pinimg.com/564x/08/3e/23/083e23fa25cc6e95f3539d73fa09017f.jpg\" alt=\"inventario\" width=\"500px\">\n",
    "\n",
    "Cartografía de movimientos en masa.\n",
    ":::\n",
    "\n",
    "No existe hasta el momento un acuerdo en la mejor estrategia de cartografía. Para entrenar modelos de susceptibildiad o amenaza se debe considerar para la selección de la estrategia que el objetivo es representar las condiciones previas a la ocurrencia del evento, y no a las condiciones posteriores a la ocurrencia. En este caso el uso del depósito o incluso la corona no representaría adecuadamente la morfometría inestable que precisamente es inestable, la nueva geometría que representa el depósito entrenaría erroneamante el modelo de forma tal que las zonas de pendiente baja (representativas del depósito) son inestables, lo cual no es cierto. En este sentido, se recomienda durante el proceso de cartografía de los movimientos en masa separar la corona y escarpe del depósito. Obviamente esto depende de la técnica utilizada para el levantamiento del inventario. Para inventarios a partir de registros históricos se cuenta en muchos casos solo con las coordenadas, lo cual permite solo ubicar el evento como un punto, desconociendo qué parte del movimiento en masa representa dicho punto. Para inventarios a partir de fotografía aéreas o imágenes satelitales depende de la escala o resolucion de las imágenes.\n",
    "\n",
    "Otra discusión importante que se dá sobre el método utilizado para cartografiar los movimientos, y específicamente como se incorporan para entrenar los modelos estadísticos, se refiere al número de celdas que se debe tomar. Muchos autores plantean que el entrenamiento de los modelos estadísticos debe ser independiente del tamaño del movimiento. Cuando se utiliza todos los pixeles del movimiento en masa o toda la corona del evento para eventos de gran tamaño, a diferencia de utilizar un pixel que representa el centro, se puede estar sesgando el modelo ya que el modelo *aprende* mas entre mas celdas se le ingresen, por lo tanto terminan pesando mas que los eventos de menor tamaño. Esto se evita utlizando solo un pixel, independiente del tamaño del evento. La pregunta en este caso sería qué pixel es representativo de las condiciones de inestabilidad originales, es decir previas a la ocurrencia del evento, probablemente el pixel sobre el centro del evento no cumpla esta condición."
   ]
  },
  {
   "cell_type": "markdown",
   "metadata": {
    "id": "D2gH8W4bElbL"
   },
   "source": [
    "## Modelos desbalanceados\n",
    "La variable dependiente $y$ para la construcción de un modelo sale parcialmente del inventario de movimientos en masa, donde las celdas con ocurrencia de uno o mas eventos representa un 1. Para que el modelo no esté sesgado se debe alimentar con celdas estables, es decir que no hayan presentado movimientos en masa en el pasado. Estas celdas se pueden representar con un valor igual a 0. Sin embargo, si se seleccionan todas las celdas del área de estudio, que no han presentado movimientos en masa en el pasado, se crearía un modelo desbalanceado, ya que las celdas estables son mucho mas numerosas que las celdas inestables. La mayor parte del terreno es estable, pero precisamente, en este tipo de modelos, nos interesa principalmente las celdas donde es probable que ocurra el evento, es decir las celdas minoritarias. Este tipo de modelos es común en la evaluación de amenazas, donde la no ocurrencia es mucho mas común o frecuente que la ocurrencia, sin embargo el interés se centra en la ocurrencia. \n",
    "\n",
    "Estos modelos desbalanceados no necesariamente significan sesgados, ya que la susceptibilidad o probabilidad espacial corresponde realmente a valores muy pequeños, sin embargo las técnicas utilizadas para establecer la función $f$ son sensibles a este desbalance, por lo que requieren que sea balanceado el modelo, de tal forma que puedan *aprender* de igual forma de las celdas inestables como de las estables. \n",
    "\n",
    "Para esto no necesariamente las celdas estables e inestables deben ser un número igual, puede mantenerse relaciones entre ambos tipos de celdas 2:1 ó hasta 10:1, lo importante es que el modelo a utilizar pueda aprender de las celdas inestables, por eso se debe verificar hasta que relación de desbalance es posible utilizar. Probablemente la relación mas utilizada por los autores es 1:1, es decir seleccionar un número de celdas estables igual al número de celdas inestables que se obtiene del inventario de movimientos en masa. Luego de establecer la relacion de celdas estables:inestables se debe ser cuidadoso con el muestreo para las celdas estables. Debe ser un muestreo aleatorio de tal forma que no se vaya a sesgar el modelo, pero que al mismo tiempo se representativo de la zona de estudio."
   ]
  },
  {
   "cell_type": "markdown",
   "metadata": {
    "id": "oDdUzIGih13V"
   },
   "source": [
    "## Python"
   ]
  },
  {
   "cell_type": "markdown",
   "metadata": {
    "id": "Jt_Gtu6MMmBv"
   },
   "source": [
    "A continuación se presenta como se pueden importar y manipular el mapa raster del inventario de eventos en python. Primero se deben importar llas librerías que se van a utilizar. La libreria denominada rasterio sirve para importar y trabajar con mapas tipo raster, y numpy para trabajar con matrices y métodos matemáticos. la funcion %matplotlib funciona para visualizar las figuras en los archivos de Jupiter."
   ]
  },
  {
   "cell_type": "code",
   "execution_count": 1,
   "metadata": {
    "executionInfo": {
     "elapsed": 571,
     "status": "ok",
     "timestamp": 1666195837130,
     "user": {
      "displayName": "Edier Vicente Aristizabal Giraldo",
      "userId": "14756502124163770629"
     },
     "user_tz": 300
    },
    "id": "DXv7pW3JMmBw",
    "tags": []
   },
   "outputs": [],
   "source": [
    "import rasterio as rio\n",
    "import numpy as np\n",
    "import matplotlib.pyplot as plt\n",
    "%matplotlib inline"
   ]
  },
  {
   "cell_type": "markdown",
   "metadata": {
    "id": "w6MR24NjMmBy"
   },
   "source": [
    "Para importar el inventario desde un archivo *.tif* (raster) se importa el archivo, indicando la ruta y abriendo el archivo, y posteriormente leyendo con la funcion read. Se debe especificar el numero de la capa. en algunos casos los mapas raster tienen diferentes capas, por ejemplo las imágenes de satelite. y la funcion show permite ver el mapa.\n"
   ]
  },
  {
   "cell_type": "code",
   "execution_count": 2,
   "metadata": {
    "colab": {
     "base_uri": "https://localhost:8080/",
     "height": 287
    },
    "executionInfo": {
     "elapsed": 3083,
     "status": "ok",
     "timestamp": 1666197659531,
     "user": {
      "displayName": "Edier Vicente Aristizabal Giraldo",
      "userId": "14756502124163770629"
     },
     "user_tz": 300
    },
    "id": "pnj9HFiQMmBz",
    "outputId": "3f9e85b0-6546-46cd-a13e-dd284f650a7c",
    "tags": []
   },
   "outputs": [
    {
     "name": "stdout",
     "output_type": "stream",
     "text": [
      "(1297, 1430)\n"
     ]
    },
    {
     "data": {
      "image/png": "[encoded data removed]",
      "text/plain": [
       "<Figure size 640x480 with 2 Axes>"
      ]
     },
     "metadata": {},
     "output_type": "display_data"
    }
   ],
   "source": [
    "raster = rio.open('https://github.com/edieraristizabal/Libro_cartoGeotecnia/blob/master/data/miel/Inventario_MenM.tif?raw=true')\n",
    "inventario=raster.read(1)\n",
    "print(inventario.shape)\n",
    "plt.imshow(inventario)\n",
    "plt.colorbar();"
   ]
  },
  {
   "cell_type": "markdown",
   "metadata": {
    "id": "oXOCGiQjMmBz"
   },
   "source": [
    "Para conocer los valores alamacenados en la capa se utiliza"
   ]
  },
  {
   "cell_type": "code",
   "execution_count": 5,
   "metadata": {
    "colab": {
     "base_uri": "https://localhost:8080/"
    },
    "executionInfo": {
     "elapsed": 438,
     "status": "ok",
     "timestamp": 1666197662193,
     "user": {
      "displayName": "Edier Vicente Aristizabal Giraldo",
      "userId": "14756502124163770629"
     },
     "user_tz": 300
    },
    "id": "H9dS5I5GMmBz",
    "outputId": "20b04558-0046-4e08-feb9-6d4f6c29bcc0"
   },
   "outputs": [
    {
     "data": {
      "text/plain": [
       "array([0, 1], dtype=int16)"
      ]
     },
     "execution_count": 5,
     "metadata": {},
     "output_type": "execute_result"
    }
   ],
   "source": [
    "np.unique(inventario)"
   ]
  },
  {
   "cell_type": "markdown",
   "metadata": {
    "id": "9qB5T9YMMmB0"
   },
   "source": [
    "El mapa que se importó tiene como valores 1 para celdas sin movimientos en masa y 2 para celdas con movimientos en masa. Es mas adecuado tener el mapa con celdas con valor 0 para celdas sin MenM y con valor 1 para celdas con MenM, esto se puede reclasificar desde *GIS* antes de exportarlo o guardarlo. En este caso debemos crear una máscara que tenga el área de la cuenca, a partir de otro mapa, en este caso el mapa de pendientes. La máscara por defecto genera un mapa de valores cero para cualquier celda fuera de la cuenca y 255 para celdas que son parte de la cuenca. Modificamos esta máscara para que las celdas por fuera de la cuenca tengan un valor NaN.\n"
   ]
  },
  {
   "cell_type": "code",
   "execution_count": 8,
   "metadata": {
    "colab": {
     "base_uri": "https://localhost:8080/",
     "height": 269
    },
    "executionInfo": {
     "elapsed": 2293,
     "status": "ok",
     "timestamp": 1666197682900,
     "user": {
      "displayName": "Edier Vicente Aristizabal Giraldo",
      "userId": "14756502124163770629"
     },
     "user_tz": 300
    },
    "id": "u-YQV4p4MmB0",
    "outputId": "1234bc47-e36e-41fe-8cf9-ab69470552d1"
   },
   "outputs": [
    {
     "data": {
      "image/png": "[encoded data removed]",
      "text/plain": [
       "<Figure size 432x288 with 2 Axes>"
      ]
     },
     "metadata": {
      "needs_background": "light"
     },
     "output_type": "display_data"
    }
   ],
   "source": [
    "raster = rio.open('https://github.com/edieraristizabal/Libro_cartoGeotecnia/blob/master/data/miel/Pendiente.tif?raw=true')\n",
    "msk=raster.read_masks(1)\n",
    "msk=np.where(msk==0,np.nan,msk)\n",
    "plt.imshow(msk)\n",
    "plt.colorbar();\n"
   ]
  },
  {
   "cell_type": "code",
   "execution_count": 10,
   "metadata": {
    "colab": {
     "base_uri": "https://localhost:8080/"
    },
    "executionInfo": {
     "elapsed": 331,
     "status": "ok",
     "timestamp": 1666197711583,
     "user": {
      "displayName": "Edier Vicente Aristizabal Giraldo",
      "userId": "14756502124163770629"
     },
     "user_tz": 300
    },
    "id": "jLOTcypaHy2H",
    "outputId": "d882ef02-fcda-436e-facf-ce2bc895b2e4"
   },
   "outputs": [
    {
     "data": {
      "text/plain": [
       "array([255.,  nan])"
      ]
     },
     "execution_count": 10,
     "metadata": {},
     "output_type": "execute_result"
    }
   ],
   "source": [
    "np.unique(msk)"
   ]
  },
  {
   "cell_type": "markdown",
   "metadata": {
    "id": "ubZTLVvFMmB1"
   },
   "source": [
    "Y multiplicamos el inventario por la mascara y obtenemos el siguiente mapa, donde las celdas dentro de la cuenca que tienen MenM tienen un valor de 255 y sin MenM tienen un valor de 0. Por lo cual lo reclasificamos de tal forma que las celdas con MenM tengan valor de 1."
   ]
  },
  {
   "cell_type": "code",
   "execution_count": 11,
   "metadata": {
    "colab": {
     "base_uri": "https://localhost:8080/",
     "height": 269
    },
    "executionInfo": {
     "elapsed": 1005,
     "status": "ok",
     "timestamp": 1666197719395,
     "user": {
      "displayName": "Edier Vicente Aristizabal Giraldo",
      "userId": "14756502124163770629"
     },
     "user_tz": 300
    },
    "id": "Wtqof3NZMmB1",
    "outputId": "be8af4be-d760-4f3f-a483-de50f3bfce52"
   },
   "outputs": [
    {
     "data": {
      "image/png": "[encoded data removed]",
      "text/plain": [
       "<Figure size 432x288 with 2 Axes>"
      ]
     },
     "metadata": {
      "needs_background": "light"
     },
     "output_type": "display_data"
    }
   ],
   "source": [
    "inventario=msk*inventario\n",
    "inventario=np.where(inventario==255,1,inventario)\n",
    "plt.imshow(inventario)\n",
    "plt.colorbar();"
   ]
  },
  {
   "cell_type": "code",
   "execution_count": 12,
   "metadata": {
    "colab": {
     "base_uri": "https://localhost:8080/"
    },
    "executionInfo": {
     "elapsed": 329,
     "status": "ok",
     "timestamp": 1666197722494,
     "user": {
      "displayName": "Edier Vicente Aristizabal Giraldo",
      "userId": "14756502124163770629"
     },
     "user_tz": 300
    },
    "id": "vdoocvXVlmLm",
    "outputId": "adb5a393-87e7-4e0f-bf6f-f9508a15a2b4"
   },
   "outputs": [
    {
     "data": {
      "text/plain": [
       "array([ 0.,  1., nan])"
      ]
     },
     "execution_count": 12,
     "metadata": {},
     "output_type": "execute_result"
    }
   ],
   "source": [
    "np.unique(inventario)"
   ]
  },
  {
   "cell_type": "markdown",
   "metadata": {
    "id": "yi87LNzvElbn"
   },
   "source": [
    "## Referencias\n",
    "```{bibliography}\n",
    ":style: plain\n",
    ":filter: docname in docnames\n",
    "```"
   ]
  }
 ],
 "metadata": {
  "colab": {
   "collapsed_sections": [],
   "provenance": []
  },
  "kernelspec": {
   "display_name": "carto",
   "language": "python",
   "name": "carto"
  },
  "language_info": {
   "codemirror_mode": {
    "name": "ipython",
    "version": 3
   },
   "file_extension": ".py",
   "mimetype": "text/x-python",
   "name": "python",
   "nbconvert_exporter": "python",
   "pygments_lexer": "ipython3",
   "version": "3.11.4"
  },
  "toc": {
   "base_numbering": 1,
   "nav_menu": {},
   "number_sections": true,
   "sideBar": true,
   "skip_h1_title": false,
   "title_cell": "Table of Contents",
   "title_sidebar": "Contents",
   "toc_cell": false,
   "toc_position": {},
   "toc_section_display": true,
   "toc_window_display": false
  },
  "vscode": {
   "interpreter": {
    "hash": "4368b5b2caae0b389dbb264ec895ac3050f9d5a7bf2d7d86b8d57f39619b4948"
   }
  }
 },
 "nbformat": 4,
 "nbformat_minor": 4
}
